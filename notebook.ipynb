{
 "cells": [
  {
   "cell_type": "code",
   "execution_count": 1,
   "metadata": {},
   "outputs": [],
   "source": [
    "import pandas as pd\n",
    "import numpy as np\n",
    "import config\n",
    "import sql_con\n",
    "import matplotlib.pyplot as plt\n",
    "%matplotlib inline\n",
    "import seaborn as sns\n",
    "from bin import get_bins"
   ]
  },
  {
   "cell_type": "code",
   "execution_count": 2,
   "metadata": {},
   "outputs": [],
   "source": [
    "# get config module variables\n",
    "ROOT_DIR = config.ROOT_DIR\n",
    "select_records = sql_con.select_records\n",
    "insert_records = sql_con.insert_records\n",
    "conn_odbc = sql_con.conn_odbc\n",
    "read_contents = sql_con.read_contents"
   ]
  },
  {
   "attachments": {},
   "cell_type": "markdown",
   "metadata": {},
   "source": [
    "#### Read sales data and transform before plotting histogram"
   ]
  },
  {
   "cell_type": "code",
   "execution_count": 3,
   "metadata": {},
   "outputs": [],
   "source": [
    "raw_sales = pd.read_excel(rf\"{ROOT_DIR}/data/sales_2018.xlsx\")"
   ]
  },
  {
   "cell_type": "code",
   "execution_count": 4,
   "metadata": {},
   "outputs": [
    {
     "data": {
      "text/html": [
       "<div>\n",
       "<style scoped>\n",
       "    .dataframe tbody tr th:only-of-type {\n",
       "        vertical-align: middle;\n",
       "    }\n",
       "\n",
       "    .dataframe tbody tr th {\n",
       "        vertical-align: top;\n",
       "    }\n",
       "\n",
       "    .dataframe thead th {\n",
       "        text-align: right;\n",
       "    }\n",
       "</style>\n",
       "<table border=\"1\" class=\"dataframe\">\n",
       "  <thead>\n",
       "    <tr style=\"text-align: right;\">\n",
       "      <th></th>\n",
       "      <th>account number</th>\n",
       "      <th>name</th>\n",
       "      <th>sku</th>\n",
       "      <th>quantity</th>\n",
       "      <th>unit price</th>\n",
       "      <th>ext price</th>\n",
       "      <th>date</th>\n",
       "    </tr>\n",
       "  </thead>\n",
       "  <tbody>\n",
       "    <tr>\n",
       "      <th>0</th>\n",
       "      <td>740150</td>\n",
       "      <td>Barton LLC</td>\n",
       "      <td>B1-20000</td>\n",
       "      <td>39</td>\n",
       "      <td>86.69</td>\n",
       "      <td>3380.91</td>\n",
       "      <td>2018-01-01 07:21:51</td>\n",
       "    </tr>\n",
       "    <tr>\n",
       "      <th>1</th>\n",
       "      <td>714466</td>\n",
       "      <td>Trantow-Barrows</td>\n",
       "      <td>S2-77896</td>\n",
       "      <td>-1</td>\n",
       "      <td>63.16</td>\n",
       "      <td>-63.16</td>\n",
       "      <td>2018-01-01 10:00:47</td>\n",
       "    </tr>\n",
       "    <tr>\n",
       "      <th>2</th>\n",
       "      <td>218895</td>\n",
       "      <td>Kulas Inc</td>\n",
       "      <td>B1-69924</td>\n",
       "      <td>23</td>\n",
       "      <td>90.70</td>\n",
       "      <td>2086.10</td>\n",
       "      <td>2018-01-01 13:24:58</td>\n",
       "    </tr>\n",
       "    <tr>\n",
       "      <th>3</th>\n",
       "      <td>307599</td>\n",
       "      <td>Kassulke, Ondricka and Metz</td>\n",
       "      <td>S1-65481</td>\n",
       "      <td>41</td>\n",
       "      <td>21.05</td>\n",
       "      <td>863.05</td>\n",
       "      <td>2018-01-01 15:05:22</td>\n",
       "    </tr>\n",
       "    <tr>\n",
       "      <th>4</th>\n",
       "      <td>412290</td>\n",
       "      <td>Jerde-Hilpert</td>\n",
       "      <td>S2-34077</td>\n",
       "      <td>6</td>\n",
       "      <td>83.21</td>\n",
       "      <td>499.26</td>\n",
       "      <td>2018-01-01 23:26:55</td>\n",
       "    </tr>\n",
       "  </tbody>\n",
       "</table>\n",
       "</div>"
      ],
      "text/plain": [
       "   account number                         name       sku  quantity  \\\n",
       "0          740150                   Barton LLC  B1-20000        39   \n",
       "1          714466              Trantow-Barrows  S2-77896        -1   \n",
       "2          218895                    Kulas Inc  B1-69924        23   \n",
       "3          307599  Kassulke, Ondricka and Metz  S1-65481        41   \n",
       "4          412290                Jerde-Hilpert  S2-34077         6   \n",
       "\n",
       "   unit price  ext price                date  \n",
       "0       86.69    3380.91 2018-01-01 07:21:51  \n",
       "1       63.16     -63.16 2018-01-01 10:00:47  \n",
       "2       90.70    2086.10 2018-01-01 13:24:58  \n",
       "3       21.05     863.05 2018-01-01 15:05:22  \n",
       "4       83.21     499.26 2018-01-01 23:26:55  "
      ]
     },
     "execution_count": 4,
     "metadata": {},
     "output_type": "execute_result"
    }
   ],
   "source": [
    "raw_sales.head()"
   ]
  },
  {
   "cell_type": "code",
   "execution_count": 5,
   "metadata": {},
   "outputs": [],
   "source": [
    "sales_agg = raw_sales.groupby(by=[\"account number\", \"name\"], as_index=False)[\"ext price\"].sum()"
   ]
  },
  {
   "cell_type": "code",
   "execution_count": 6,
   "metadata": {},
   "outputs": [
    {
     "data": {
      "text/plain": [
       "(20, 3)"
      ]
     },
     "execution_count": 6,
     "metadata": {},
     "output_type": "execute_result"
    }
   ],
   "source": [
    "sales_agg.head()\n",
    "sales_agg.shape"
   ]
  },
  {
   "attachments": {},
   "cell_type": "markdown",
   "metadata": {},
   "source": [
    "#### Plot ext price's distribution on histogram (absolute frequency)"
   ]
  },
  {
   "cell_type": "code",
   "execution_count": 7,
   "metadata": {},
   "outputs": [
    {
     "data": {
      "image/png": "[encoded data removed]",
      "text/plain": [
       "<Figure size 640x480 with 1 Axes>"
      ]
     },
     "metadata": {},
     "output_type": "display_data"
    }
   ],
   "source": [
    "fig, ax = plt.subplots()\n",
    "\n",
    "ax.hist(\n",
    "    sales_agg[\"ext price\"],\n",
    "    alpha=0.9,\n",
    "    bins=10,\n",
    "    edgecolor=\"white\"\n",
    ")\n",
    "\n",
    "ax.set_title(\"Distribution of customer sales data 2018\")\n",
    "ax.set_xlabel(\"Extended Price\")\n",
    "ax.set_ylabel(\"Count\")\n",
    "ax.grid(True)"
   ]
  },
  {
   "attachments": {},
   "cell_type": "markdown",
   "metadata": {},
   "source": [
    "#### Plot ext price's distribution on histogram (relative frequency)"
   ]
  },
  {
   "cell_type": "code",
   "execution_count": 8,
   "metadata": {},
   "outputs": [
    {
     "data": {
      "image/png": "[encoded data removed]",
      "text/plain": [
       "<Figure size 640x480 with 1 Axes>"
      ]
     },
     "metadata": {},
     "output_type": "display_data"
    }
   ],
   "source": [
    "# (height of bin) * (width of bin) = (number of datapoints falling in bin) / (total number of datapoints)\n",
    "fig, ax = plt.subplots()\n",
    "\n",
    "ax.hist(\n",
    "    sales_agg[\"ext price\"],\n",
    "    alpha=0.9,\n",
    "    bins=10,\n",
    "    edgecolor=\"white\",\n",
    "    density=True\n",
    ")\n",
    "\n",
    "ax.set_title(\"Distribution of customer sales data 2018\")\n",
    "ax.set_xlabel(\"Extended Price\")\n",
    "ax.set_ylabel(\"Count\")\n",
    "ax.grid(True)"
   ]
  },
  {
   "cell_type": "code",
   "execution_count": 9,
   "metadata": {},
   "outputs": [
    {
     "data": {
      "text/html": [
       "<div>\n",
       "<style scoped>\n",
       "    .dataframe tbody tr th:only-of-type {\n",
       "        vertical-align: middle;\n",
       "    }\n",
       "\n",
       "    .dataframe tbody tr th {\n",
       "        vertical-align: top;\n",
       "    }\n",
       "\n",
       "    .dataframe thead th {\n",
       "        text-align: right;\n",
       "    }\n",
       "</style>\n",
       "<table border=\"1\" class=\"dataframe\">\n",
       "  <thead>\n",
       "    <tr style=\"text-align: right;\">\n",
       "      <th></th>\n",
       "      <th>bin_num</th>\n",
       "      <th>lower_bound</th>\n",
       "      <th>upper_bound</th>\n",
       "    </tr>\n",
       "  </thead>\n",
       "  <tbody>\n",
       "    <tr>\n",
       "      <th>0</th>\n",
       "      <td>1</td>\n",
       "      <td>70004.36</td>\n",
       "      <td>76739.12</td>\n",
       "    </tr>\n",
       "    <tr>\n",
       "      <th>1</th>\n",
       "      <td>2</td>\n",
       "      <td>76739.12</td>\n",
       "      <td>83473.88</td>\n",
       "    </tr>\n",
       "    <tr>\n",
       "      <th>2</th>\n",
       "      <td>3</td>\n",
       "      <td>83473.88</td>\n",
       "      <td>90208.64</td>\n",
       "    </tr>\n",
       "    <tr>\n",
       "      <th>3</th>\n",
       "      <td>4</td>\n",
       "      <td>90208.64</td>\n",
       "      <td>96943.40</td>\n",
       "    </tr>\n",
       "    <tr>\n",
       "      <th>4</th>\n",
       "      <td>5</td>\n",
       "      <td>96943.40</td>\n",
       "      <td>103678.16</td>\n",
       "    </tr>\n",
       "    <tr>\n",
       "      <th>5</th>\n",
       "      <td>6</td>\n",
       "      <td>103678.16</td>\n",
       "      <td>110412.92</td>\n",
       "    </tr>\n",
       "    <tr>\n",
       "      <th>6</th>\n",
       "      <td>7</td>\n",
       "      <td>110412.92</td>\n",
       "      <td>117147.68</td>\n",
       "    </tr>\n",
       "    <tr>\n",
       "      <th>7</th>\n",
       "      <td>8</td>\n",
       "      <td>117147.68</td>\n",
       "      <td>123882.44</td>\n",
       "    </tr>\n",
       "    <tr>\n",
       "      <th>8</th>\n",
       "      <td>9</td>\n",
       "      <td>123882.44</td>\n",
       "      <td>130617.20</td>\n",
       "    </tr>\n",
       "    <tr>\n",
       "      <th>9</th>\n",
       "      <td>10</td>\n",
       "      <td>130617.20</td>\n",
       "      <td>137351.96</td>\n",
       "    </tr>\n",
       "  </tbody>\n",
       "</table>\n",
       "</div>"
      ],
      "text/plain": [
       "   bin_num  lower_bound  upper_bound\n",
       "0        1     70004.36     76739.12\n",
       "1        2     76739.12     83473.88\n",
       "2        3     83473.88     90208.64\n",
       "3        4     90208.64     96943.40\n",
       "4        5     96943.40    103678.16\n",
       "5        6    103678.16    110412.92\n",
       "6        7    110412.92    117147.68\n",
       "7        8    117147.68    123882.44\n",
       "8        9    123882.44    130617.20\n",
       "9       10    130617.20    137351.96"
      ]
     },
     "execution_count": 9,
     "metadata": {},
     "output_type": "execute_result"
    }
   ],
   "source": [
    "# precise upper and lower bounds for given number of bins\n",
    "get_bins(sales_agg, \"ext price\", 10)"
   ]
  },
  {
   "cell_type": "code",
   "execution_count": 13,
   "metadata": {},
   "outputs": [
    {
     "data": {
      "text/plain": [
       "(array([1, 2, 3, 2, 5, 2, 2, 1, 0, 2], dtype=int64),\n",
       " array([ 70004.36,  76739.12,  83473.88,  90208.64,  96943.4 , 103678.16,\n",
       "        110412.92, 117147.68, 123882.44, 130617.2 , 137351.96]))"
      ]
     },
     "execution_count": 13,
     "metadata": {},
     "output_type": "execute_result"
    }
   ],
   "source": [
    "# get value counts distributed in bins\n",
    "np.histogram(sales_agg[\"ext price\"], bins=10)"
   ]
  },
  {
   "cell_type": "code",
   "execution_count": 11,
   "metadata": {},
   "outputs": [
    {
     "data": {
      "text/plain": [
       "count        20.000000\n",
       "mean     100939.216000\n",
       "std       17675.097485\n",
       "min       70004.360000\n",
       "25%       89137.707500\n",
       "50%      100271.535000\n",
       "75%      110132.552500\n",
       "max      137351.960000\n",
       "Name: ext price, dtype: float64"
      ]
     },
     "execution_count": 11,
     "metadata": {},
     "output_type": "execute_result"
    }
   ],
   "source": [
    "# get summary statistics for extended price\n",
    "sales_agg[\"ext price\"].describe()"
   ]
  },
  {
   "cell_type": "code",
   "execution_count": 36,
   "metadata": {},
   "outputs": [],
   "source": [
    "sales_agg[\"quartile\"] = pd.qcut(sales_agg[\"ext price\"], q=4, precision=3)\n",
    "sales_agg[\"decile\"] = pd.qcut(sales_agg[\"ext price\"], q=10, precision=3)\n",
    "sales_agg[\"quartile_grp\"] = pd.qcut(sales_agg[\"ext price\"], q=4, precision=3, labels=range(1, 5))\n",
    "sales_agg[\"decile_grp\"] = pd.qcut(sales_agg[\"ext price\"], q=10, precision=3, labels=range(1, 11))"
   ]
  },
  {
   "cell_type": "code",
   "execution_count": 38,
   "metadata": {},
   "outputs": [
    {
     "data": {
      "text/html": [
       "<div>\n",
       "<style scoped>\n",
       "    .dataframe tbody tr th:only-of-type {\n",
       "        vertical-align: middle;\n",
       "    }\n",
       "\n",
       "    .dataframe tbody tr th {\n",
       "        vertical-align: top;\n",
       "    }\n",
       "\n",
       "    .dataframe thead th {\n",
       "        text-align: right;\n",
       "    }\n",
       "</style>\n",
       "<table border=\"1\" class=\"dataframe\">\n",
       "  <thead>\n",
       "    <tr style=\"text-align: right;\">\n",
       "      <th></th>\n",
       "      <th>account number</th>\n",
       "      <th>name</th>\n",
       "      <th>ext price</th>\n",
       "      <th>quartile</th>\n",
       "      <th>decile</th>\n",
       "      <th>quartile_grp</th>\n",
       "      <th>decile_grp</th>\n",
       "    </tr>\n",
       "  </thead>\n",
       "  <tbody>\n",
       "    <tr>\n",
       "      <th>11</th>\n",
       "      <td>604255</td>\n",
       "      <td>Halvorson, Crona and Champlin</td>\n",
       "      <td>70004.36</td>\n",
       "      <td>(70004.359, 89137.708]</td>\n",
       "      <td>(70004.359, 82368.321]</td>\n",
       "      <td>1</td>\n",
       "      <td>1</td>\n",
       "    </tr>\n",
       "    <tr>\n",
       "      <th>2</th>\n",
       "      <td>163416</td>\n",
       "      <td>Purdy-Kunde</td>\n",
       "      <td>77898.21</td>\n",
       "      <td>(70004.359, 89137.708]</td>\n",
       "      <td>(70004.359, 82368.321]</td>\n",
       "      <td>1</td>\n",
       "      <td>1</td>\n",
       "    </tr>\n",
       "    <tr>\n",
       "      <th>0</th>\n",
       "      <td>141962</td>\n",
       "      <td>Herman LLC</td>\n",
       "      <td>82865.00</td>\n",
       "      <td>(70004.359, 89137.708]</td>\n",
       "      <td>(82368.321, 87167.958]</td>\n",
       "      <td>1</td>\n",
       "      <td>2</td>\n",
       "    </tr>\n",
       "    <tr>\n",
       "      <th>6</th>\n",
       "      <td>307599</td>\n",
       "      <td>Kassulke, Ondricka and Metz</td>\n",
       "      <td>86451.07</td>\n",
       "      <td>(70004.359, 89137.708]</td>\n",
       "      <td>(82368.321, 87167.958]</td>\n",
       "      <td>1</td>\n",
       "      <td>2</td>\n",
       "    </tr>\n",
       "    <tr>\n",
       "      <th>12</th>\n",
       "      <td>642753</td>\n",
       "      <td>Pollich LLC</td>\n",
       "      <td>87347.18</td>\n",
       "      <td>(70004.359, 89137.708]</td>\n",
       "      <td>(87167.958, 90686.361]</td>\n",
       "      <td>1</td>\n",
       "      <td>3</td>\n",
       "    </tr>\n",
       "    <tr>\n",
       "      <th>5</th>\n",
       "      <td>257198</td>\n",
       "      <td>Cronin, Oberbrunner and Spencer</td>\n",
       "      <td>89734.55</td>\n",
       "      <td>(89137.708, 100271.535]</td>\n",
       "      <td>(87167.958, 90686.361]</td>\n",
       "      <td>2</td>\n",
       "      <td>3</td>\n",
       "    </tr>\n",
       "    <tr>\n",
       "      <th>13</th>\n",
       "      <td>672390</td>\n",
       "      <td>Kuhn-Gusikowski</td>\n",
       "      <td>91094.28</td>\n",
       "      <td>(89137.708, 100271.535]</td>\n",
       "      <td>(90686.361, 95908.156]</td>\n",
       "      <td>2</td>\n",
       "      <td>4</td>\n",
       "    </tr>\n",
       "    <tr>\n",
       "      <th>4</th>\n",
       "      <td>239344</td>\n",
       "      <td>Stokes LLC</td>\n",
       "      <td>91535.92</td>\n",
       "      <td>(89137.708, 100271.535]</td>\n",
       "      <td>(90686.361, 95908.156]</td>\n",
       "      <td>2</td>\n",
       "      <td>4</td>\n",
       "    </tr>\n",
       "    <tr>\n",
       "      <th>10</th>\n",
       "      <td>527099</td>\n",
       "      <td>Sanford and Sons</td>\n",
       "      <td>98822.98</td>\n",
       "      <td>(89137.708, 100271.535]</td>\n",
       "      <td>(95908.156, 100271.535]</td>\n",
       "      <td>2</td>\n",
       "      <td>5</td>\n",
       "    </tr>\n",
       "    <tr>\n",
       "      <th>1</th>\n",
       "      <td>146832</td>\n",
       "      <td>Kiehn-Spinka</td>\n",
       "      <td>99608.77</td>\n",
       "      <td>(89137.708, 100271.535]</td>\n",
       "      <td>(95908.156, 100271.535]</td>\n",
       "      <td>2</td>\n",
       "      <td>5</td>\n",
       "    </tr>\n",
       "    <tr>\n",
       "      <th>14</th>\n",
       "      <td>688981</td>\n",
       "      <td>Keeling LLC</td>\n",
       "      <td>100934.30</td>\n",
       "      <td>(100271.535, 110132.552]</td>\n",
       "      <td>(100271.535, 103605.97]</td>\n",
       "      <td>3</td>\n",
       "      <td>6</td>\n",
       "    </tr>\n",
       "    <tr>\n",
       "      <th>19</th>\n",
       "      <td>786968</td>\n",
       "      <td>Frami, Hills and Schmidt</td>\n",
       "      <td>103569.59</td>\n",
       "      <td>(100271.535, 110132.552]</td>\n",
       "      <td>(100271.535, 103605.97]</td>\n",
       "      <td>3</td>\n",
       "      <td>6</td>\n",
       "    </tr>\n",
       "    <tr>\n",
       "      <th>16</th>\n",
       "      <td>729833</td>\n",
       "      <td>Koepp Ltd</td>\n",
       "      <td>103660.54</td>\n",
       "      <td>(100271.535, 110132.552]</td>\n",
       "      <td>(103605.97, 105937.87]</td>\n",
       "      <td>3</td>\n",
       "      <td>7</td>\n",
       "    </tr>\n",
       "    <tr>\n",
       "      <th>7</th>\n",
       "      <td>383080</td>\n",
       "      <td>Will LLC</td>\n",
       "      <td>104437.60</td>\n",
       "      <td>(100271.535, 110132.552]</td>\n",
       "      <td>(103605.97, 105937.87]</td>\n",
       "      <td>3</td>\n",
       "      <td>7</td>\n",
       "    </tr>\n",
       "    <tr>\n",
       "      <th>18</th>\n",
       "      <td>740150</td>\n",
       "      <td>Barton LLC</td>\n",
       "      <td>109438.50</td>\n",
       "      <td>(100271.535, 110132.552]</td>\n",
       "      <td>(105937.87, 112290.054]</td>\n",
       "      <td>3</td>\n",
       "      <td>8</td>\n",
       "    </tr>\n",
       "    <tr>\n",
       "      <th>17</th>\n",
       "      <td>737550</td>\n",
       "      <td>Fritsch, Russel and Anderson</td>\n",
       "      <td>112214.71</td>\n",
       "      <td>(110132.552, 137351.96]</td>\n",
       "      <td>(105937.87, 112290.054]</td>\n",
       "      <td>4</td>\n",
       "      <td>8</td>\n",
       "    </tr>\n",
       "    <tr>\n",
       "      <th>8</th>\n",
       "      <td>412290</td>\n",
       "      <td>Jerde-Hilpert</td>\n",
       "      <td>112591.43</td>\n",
       "      <td>(110132.552, 137351.96]</td>\n",
       "      <td>(112290.054, 124627.441]</td>\n",
       "      <td>4</td>\n",
       "      <td>9</td>\n",
       "    </tr>\n",
       "    <tr>\n",
       "      <th>15</th>\n",
       "      <td>714466</td>\n",
       "      <td>Trantow-Barrows</td>\n",
       "      <td>123381.38</td>\n",
       "      <td>(110132.552, 137351.96]</td>\n",
       "      <td>(112290.054, 124627.441]</td>\n",
       "      <td>4</td>\n",
       "      <td>9</td>\n",
       "    </tr>\n",
       "    <tr>\n",
       "      <th>9</th>\n",
       "      <td>424914</td>\n",
       "      <td>White-Trantow</td>\n",
       "      <td>135841.99</td>\n",
       "      <td>(110132.552, 137351.96]</td>\n",
       "      <td>(124627.441, 137351.96]</td>\n",
       "      <td>4</td>\n",
       "      <td>10</td>\n",
       "    </tr>\n",
       "    <tr>\n",
       "      <th>3</th>\n",
       "      <td>218895</td>\n",
       "      <td>Kulas Inc</td>\n",
       "      <td>137351.96</td>\n",
       "      <td>(110132.552, 137351.96]</td>\n",
       "      <td>(124627.441, 137351.96]</td>\n",
       "      <td>4</td>\n",
       "      <td>10</td>\n",
       "    </tr>\n",
       "  </tbody>\n",
       "</table>\n",
       "</div>"
      ],
      "text/plain": [
       "    account number                             name  ext price  \\\n",
       "11          604255    Halvorson, Crona and Champlin   70004.36   \n",
       "2           163416                      Purdy-Kunde   77898.21   \n",
       "0           141962                       Herman LLC   82865.00   \n",
       "6           307599      Kassulke, Ondricka and Metz   86451.07   \n",
       "12          642753                      Pollich LLC   87347.18   \n",
       "5           257198  Cronin, Oberbrunner and Spencer   89734.55   \n",
       "13          672390                  Kuhn-Gusikowski   91094.28   \n",
       "4           239344                       Stokes LLC   91535.92   \n",
       "10          527099                 Sanford and Sons   98822.98   \n",
       "1           146832                     Kiehn-Spinka   99608.77   \n",
       "14          688981                      Keeling LLC  100934.30   \n",
       "19          786968         Frami, Hills and Schmidt  103569.59   \n",
       "16          729833                        Koepp Ltd  103660.54   \n",
       "7           383080                         Will LLC  104437.60   \n",
       "18          740150                       Barton LLC  109438.50   \n",
       "17          737550     Fritsch, Russel and Anderson  112214.71   \n",
       "8           412290                    Jerde-Hilpert  112591.43   \n",
       "15          714466                  Trantow-Barrows  123381.38   \n",
       "9           424914                    White-Trantow  135841.99   \n",
       "3           218895                        Kulas Inc  137351.96   \n",
       "\n",
       "                    quartile                    decile quartile_grp decile_grp  \n",
       "11    (70004.359, 89137.708]    (70004.359, 82368.321]            1          1  \n",
       "2     (70004.359, 89137.708]    (70004.359, 82368.321]            1          1  \n",
       "0     (70004.359, 89137.708]    (82368.321, 87167.958]            1          2  \n",
       "6     (70004.359, 89137.708]    (82368.321, 87167.958]            1          2  \n",
       "12    (70004.359, 89137.708]    (87167.958, 90686.361]            1          3  \n",
       "5    (89137.708, 100271.535]    (87167.958, 90686.361]            2          3  \n",
       "13   (89137.708, 100271.535]    (90686.361, 95908.156]            2          4  \n",
       "4    (89137.708, 100271.535]    (90686.361, 95908.156]            2          4  \n",
       "10   (89137.708, 100271.535]   (95908.156, 100271.535]            2          5  \n",
       "1    (89137.708, 100271.535]   (95908.156, 100271.535]            2          5  \n",
       "14  (100271.535, 110132.552]   (100271.535, 103605.97]            3          6  \n",
       "19  (100271.535, 110132.552]   (100271.535, 103605.97]            3          6  \n",
       "16  (100271.535, 110132.552]    (103605.97, 105937.87]            3          7  \n",
       "7   (100271.535, 110132.552]    (103605.97, 105937.87]            3          7  \n",
       "18  (100271.535, 110132.552]   (105937.87, 112290.054]            3          8  \n",
       "17   (110132.552, 137351.96]   (105937.87, 112290.054]            4          8  \n",
       "8    (110132.552, 137351.96]  (112290.054, 124627.441]            4          9  \n",
       "15   (110132.552, 137351.96]  (112290.054, 124627.441]            4          9  \n",
       "9    (110132.552, 137351.96]   (124627.441, 137351.96]            4         10  \n",
       "3    (110132.552, 137351.96]   (124627.441, 137351.96]            4         10  "
      ]
     },
     "execution_count": 38,
     "metadata": {},
     "output_type": "execute_result"
    }
   ],
   "source": [
    "sales_agg.sort_values(by=\"ext price\")"
   ]
  },
  {
   "attachments": {},
   "cell_type": "markdown",
   "metadata": {},
   "source": [
    "#### Visualize ext price distribution in box plot"
   ]
  },
  {
   "cell_type": "code",
   "execution_count": 42,
   "metadata": {},
   "outputs": [
    {
     "data": {
      "text/plain": [
       "Text(0.5, 1.0, 'Box plot for extended price distribution')"
      ]
     },
     "execution_count": 42,
     "metadata": {},
     "output_type": "execute_result"
    },
    {
     "data": {
      "image/png": "[encoded data removed]",
      "text/plain": [
       "<Figure size 640x480 with 1 Axes>"
      ]
     },
     "metadata": {},
     "output_type": "display_data"
    }
   ],
   "source": [
    "fig, ax = plt.subplots()\n",
    "\n",
    "ax.boxplot(\n",
    "    x=sales_agg[\"ext price\"]\n",
    ")\n",
    "\n",
    "ax.set_title(\"Box plot for extended price distribution\")"
   ]
  },
  {
   "cell_type": "code",
   "execution_count": null,
   "metadata": {},
   "outputs": [],
   "source": []
  }
 ],
 "metadata": {
  "kernelspec": {
   "display_name": "Python 3",
   "language": "python",
   "name": "python3"
  },
  "language_info": {
   "codemirror_mode": {
    "name": "ipython",
    "version": 3
   },
   "file_extension": ".py",
   "mimetype": "text/x-python",
   "name": "python",
   "nbconvert_exporter": "python",
   "pygments_lexer": "ipython3",
   "version": "3.10.6"
  },
  "orig_nbformat": 4,
  "vscode": {
   "interpreter": {
    "hash": "0c62ecade22fff4c1d31446e36615b3ce67a81b5933d46e8d3b7993b34a0b8fe"
   }
  }
 },
 "nbformat": 4,
 "nbformat_minor": 2
}
